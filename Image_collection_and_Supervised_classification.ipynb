{
  "nbformat": 4,
  "nbformat_minor": 0,
  "metadata": {
    "colab": {
      "name": "Image_collection and Supervised_classification.ipynb",
      "provenance": [],
      "collapsed_sections": [],
      "include_colab_link": true
    },
    "kernelspec": {
      "display_name": "Python 3",
      "name": "python3"
    },
    "widgets": {
      "application/vnd.jupyter.widget-state+json": {
        "859587b3d45e4992a2e67721bf2618bf": {
          "model_module": "jupyter-leaflet",
          "model_name": "LeafletMapModel",
          "model_module_version": "^0.14.0",
          "state": {
            "_view_name": "LeafletMapView",
            "keyboard_pan_offset": 80,
            "right": 39220,
            "tap": true,
            "_view_module": "jupyter-leaflet",
            "max_zoom": 24,
            "_model_module_version": "^0.14.0",
            "_view_count": null,
            "zoom_snap": 1,
            "min_zoom": 1,
            "bounce_at_zoom_limits": true,
            "keyboard": true,
            "north": -0.3515602939922709,
            "scroll_wheel_zoom": true,
            "dragging": true,
            "_model_module": "jupyter-leaflet",
            "zoom_delta": 1,
            "close_popup_on_click": true,
            "fullscreen": false,
            "style": "IPY_MODEL_af02446994ca42e8b4199035f53cd8a2",
            "layout": "IPY_MODEL_825a17d85f4747a096680b200285274a",
            "bottom": 33432,
            "inertia_max_speed": 1500,
            "top": 32832,
            "box_zoom": true,
            "controls": [
              "IPY_MODEL_fa58a2414398498797429649c056c9c7",
              "IPY_MODEL_5c2bd6da72734153984b104a925af94c",
              "IPY_MODEL_6c0aca211ec248ec928412e31c1cd78b",
              "IPY_MODEL_20893661046a4c47a35c3c542835d616",
              "IPY_MODEL_aa7cd25ad9794f60a7160f232d664d14",
              "IPY_MODEL_51ec5dccc0e5414caf72924e3024235e",
              "IPY_MODEL_d4e5c7b50e5d467bb77ab125197fc30f",
              "IPY_MODEL_ade12484f99b4a4abde6a92646497906"
            ],
            "default_style": "IPY_MODEL_54a64291531d413ea6cdfe5389a0fa9e",
            "east": 35.44189453125001,
            "double_click_zoom": true,
            "interpolation": "bilinear",
            "layers": [
              "IPY_MODEL_d6365ea4878943ac85c499c7e774398f",
              "IPY_MODEL_328b9589ee0f4db0b532034ba62b57e8",
              "IPY_MODEL_b060737c263b49a088a20b81efd26837",
              "IPY_MODEL_e16cdd33df984aefb01ba2f1b1ceacf9"
            ],
            "dragging_style": "IPY_MODEL_6af57b6642a044caafb6abba845c6160",
            "_dom_classes": [],
            "zoom_animation_threshold": 4,
            "_model_name": "LeafletMapModel",
            "zoom_start": 12,
            "modisdate": "yesterday",
            "keyboard_zoom_offset": 1,
            "inertia_deceleration": 3000,
            "inertia": true,
            "crs": {
              "name": "EPSG3857",
              "custom": false
            },
            "center": [
              -2.0014515352750792,
              29.925550450611976
            ],
            "zoom": 8,
            "world_copy_jump": false,
            "_view_module_version": "^0.14.0",
            "window_url": "https://0c8cj7k72odv-496ff2e9c6d22116-0-colab.googleusercontent.com/outputframe.html?vrz=colab-20211130-060057-RC00_413110158",
            "tap_tolerance": 15,
            "west": 24.411621093750004,
            "touch_zoom": true,
            "options": [
              "bounce_at_zoom_limits",
              "box_zoom",
              "center",
              "close_popup_on_click",
              "double_click_zoom",
              "dragging",
              "fullscreen",
              "inertia",
              "inertia_deceleration",
              "inertia_max_speed",
              "interpolation",
              "keyboard",
              "keyboard_pan_offset",
              "keyboard_zoom_offset",
              "max_zoom",
              "min_zoom",
              "scroll_wheel_zoom",
              "tap",
              "tap_tolerance",
              "touch_zoom",
              "world_copy_jump",
              "zoom",
              "zoom_animation_threshold",
              "zoom_delta",
              "zoom_snap",
              "zoom_start"
            ],
            "south": -3.6449998008920375,
            "left": 37212
          }
        },
        "af02446994ca42e8b4199035f53cd8a2": {
          "model_module": "jupyter-leaflet",
          "model_name": "LeafletMapStyleModel",
          "model_module_version": "^0.14.0",
          "state": {
            "_view_name": "StyleView",
            "_model_name": "LeafletMapStyleModel",
            "_view_module": "@jupyter-widgets/base",
            "_model_module_version": "^0.14.0",
            "_view_count": null,
            "cursor": "grab",
            "_view_module_version": "1.2.0",
            "_model_module": "jupyter-leaflet"
          }
        },
        "825a17d85f4747a096680b200285274a": {
          "model_module": "@jupyter-widgets/base",
          "model_name": "LayoutModel",
          "model_module_version": "1.2.0",
          "state": {
            "_view_name": "LayoutView",
            "grid_template_rows": null,
            "right": null,
            "justify_content": null,
            "_view_module": "@jupyter-widgets/base",
            "overflow": null,
            "_model_module_version": "1.2.0",
            "_view_count": null,
            "flex_flow": null,
            "width": null,
            "min_width": null,
            "border": null,
            "align_items": null,
            "bottom": null,
            "_model_module": "@jupyter-widgets/base",
            "top": null,
            "grid_column": null,
            "overflow_y": null,
            "overflow_x": null,
            "grid_auto_flow": null,
            "grid_area": null,
            "grid_template_columns": null,
            "flex": null,
            "_model_name": "LayoutModel",
            "justify_items": null,
            "grid_row": null,
            "max_height": null,
            "align_content": null,
            "visibility": null,
            "align_self": null,
            "height": "600px",
            "min_height": null,
            "padding": null,
            "grid_auto_rows": null,
            "grid_gap": null,
            "max_width": null,
            "order": null,
            "_view_module_version": "1.2.0",
            "grid_template_areas": null,
            "object_position": null,
            "object_fit": null,
            "grid_auto_columns": null,
            "margin": null,
            "display": null,
            "left": null
          }
        },
        "fa58a2414398498797429649c056c9c7": {
          "model_module": "jupyter-leaflet",
          "model_name": "LeafletWidgetControlModel",
          "model_module_version": "^0.14.0",
          "state": {
            "_view_name": "LeafletWidgetControlView",
            "widget": "IPY_MODEL_a2180ceaf4ca476ea6e53066de029f3a",
            "_model_name": "LeafletWidgetControlModel",
            "_view_module": "jupyter-leaflet",
            "_model_module_version": "^0.14.0",
            "max_height": null,
            "_view_count": null,
            "min_height": null,
            "_view_module_version": "^0.14.0",
            "max_width": null,
            "transparent_bg": false,
            "min_width": null,
            "position": "topleft",
            "_model_module": "jupyter-leaflet",
            "options": [
              "position",
              "transparent_bg"
            ]
          }
        },
        "5c2bd6da72734153984b104a925af94c": {
          "model_module": "jupyter-leaflet",
          "model_name": "LeafletZoomControlModel",
          "model_module_version": "^0.14.0",
          "state": {
            "_view_name": "LeafletZoomControlView",
            "zoom_in_title": "Zoom in",
            "_model_name": "LeafletZoomControlModel",
            "_view_module": "jupyter-leaflet",
            "_model_module_version": "^0.14.0",
            "_view_count": null,
            "_view_module_version": "^0.14.0",
            "zoom_out_title": "Zoom out",
            "position": "topleft",
            "zoom_in_text": "+",
            "_model_module": "jupyter-leaflet",
            "options": [
              "position",
              "zoom_in_text",
              "zoom_in_title",
              "zoom_out_text",
              "zoom_out_title"
            ],
            "zoom_out_text": "-"
          }
        },
        "6c0aca211ec248ec928412e31c1cd78b": {
          "model_module": "jupyter-leaflet",
          "model_name": "LeafletScaleControlModel",
          "model_module_version": "^0.14.0",
          "state": {
            "_view_name": "LeafletScaleControlView",
            "_model_name": "LeafletScaleControlModel",
            "metric": true,
            "_view_module": "jupyter-leaflet",
            "_model_module_version": "^0.14.0",
            "max_width": 100,
            "_view_count": null,
            "_view_module_version": "^0.14.0",
            "update_when_idle": false,
            "position": "bottomleft",
            "imperial": true,
            "_model_module": "jupyter-leaflet",
            "options": [
              "imperial",
              "max_width",
              "metric",
              "position",
              "update_when_idle"
            ]
          }
        },
        "20893661046a4c47a35c3c542835d616": {
          "model_module": "jupyter-leaflet",
          "model_name": "LeafletFullScreenControlModel",
          "model_module_version": "^0.14.0",
          "state": {
            "_view_name": "LeafletFullScreenControlView",
            "_model_name": "LeafletFullScreenControlModel",
            "_view_module": "jupyter-leaflet",
            "_model_module_version": "^0.14.0",
            "_view_count": null,
            "_view_module_version": "^0.14.0",
            "position": "topleft",
            "_model_module": "jupyter-leaflet",
            "options": [
              "position"
            ]
          }
        },
        "aa7cd25ad9794f60a7160f232d664d14": {
          "model_module": "jupyter-leaflet",
          "model_name": "LeafletMeasureControlModel",
          "model_module_version": "^0.14.0",
          "state": {
            "_view_name": "LeafletMeasureControlView",
            "primary_area_unit": "acres",
            "capture_z_index": 10000,
            "secondary_area_unit": null,
            "primary_length_unit": "kilometers",
            "active_color": "orange",
            "_model_name": "LeafletMeasureControlModel",
            "popup_options": {
              "className": "leaflet-measure-resultpopup",
              "autoPanPadding": [
                10,
                10
              ]
            },
            "_view_module": "jupyter-leaflet",
            "_model_module_version": "^0.14.0",
            "_view_count": null,
            "_view_module_version": "^0.14.0",
            "secondary_length_unit": null,
            "completed_color": "#C8F2BE",
            "position": "bottomleft",
            "_model_module": "jupyter-leaflet",
            "options": [
              "active_color",
              "capture_z_index",
              "completed_color",
              "popup_options",
              "position",
              "primary_area_unit",
              "primary_length_unit",
              "secondary_area_unit",
              "secondary_length_unit"
            ],
            "_custom_units": {}
          }
        },
        "51ec5dccc0e5414caf72924e3024235e": {
          "model_module": "jupyter-leaflet",
          "model_name": "LeafletAttributionControlModel",
          "model_module_version": "^0.14.0",
          "state": {
            "_view_name": "LeafletAttributionControlView",
            "prefix": "ipyleaflet",
            "_model_name": "LeafletAttributionControlModel",
            "_view_module": "jupyter-leaflet",
            "_model_module_version": "^0.14.0",
            "_view_count": null,
            "_view_module_version": "^0.14.0",
            "position": "bottomright",
            "_model_module": "jupyter-leaflet",
            "options": [
              "position",
              "prefix"
            ]
          }
        },
        "d4e5c7b50e5d467bb77ab125197fc30f": {
          "model_module": "jupyter-leaflet",
          "model_name": "LeafletDrawControlModel",
          "model_module_version": "^0.14.0",
          "state": {
            "_view_name": "LeafletDrawControlView",
            "polygon": {
              "shapeOptions": {}
            },
            "circlemarker": {},
            "_model_name": "LeafletDrawControlModel",
            "edit": true,
            "data": [],
            "_view_module": "jupyter-leaflet",
            "_model_module_version": "^0.14.0",
            "remove": true,
            "_view_count": null,
            "_view_module_version": "^0.14.0",
            "polyline": {
              "shapeOptions": {}
            },
            "marker": {
              "shapeOptions": {
                "color": "#3388ff"
              }
            },
            "position": "topleft",
            "circle": {
              "shapeOptions": {
                "color": "#3388ff"
              }
            },
            "_model_module": "jupyter-leaflet",
            "options": [
              "position"
            ],
            "rectangle": {
              "shapeOptions": {
                "color": "#3388ff"
              }
            }
          }
        },
        "ade12484f99b4a4abde6a92646497906": {
          "model_module": "jupyter-leaflet",
          "model_name": "LeafletWidgetControlModel",
          "model_module_version": "^0.14.0",
          "state": {
            "_view_name": "LeafletWidgetControlView",
            "widget": "IPY_MODEL_0dc9fc9a221242449099c63f09e9d574",
            "_model_name": "LeafletWidgetControlModel",
            "_view_module": "jupyter-leaflet",
            "_model_module_version": "^0.14.0",
            "max_height": null,
            "_view_count": null,
            "min_height": null,
            "_view_module_version": "^0.14.0",
            "max_width": null,
            "transparent_bg": false,
            "min_width": null,
            "position": "topright",
            "_model_module": "jupyter-leaflet",
            "options": [
              "position",
              "transparent_bg"
            ]
          }
        },
        "54a64291531d413ea6cdfe5389a0fa9e": {
          "model_module": "jupyter-leaflet",
          "model_name": "LeafletMapStyleModel",
          "model_module_version": "^0.14.0",
          "state": {
            "_view_name": "StyleView",
            "_model_name": "LeafletMapStyleModel",
            "_view_module": "@jupyter-widgets/base",
            "_model_module_version": "^0.14.0",
            "_view_count": null,
            "cursor": "grab",
            "_view_module_version": "1.2.0",
            "_model_module": "jupyter-leaflet"
          }
        },
        "d6365ea4878943ac85c499c7e774398f": {
          "model_module": "jupyter-leaflet",
          "model_name": "LeafletTileLayerModel",
          "model_module_version": "^0.14.0",
          "state": {
            "_view_name": "LeafletTileLayerView",
            "_view_module": "jupyter-leaflet",
            "max_zoom": 19,
            "_model_module_version": "^0.14.0",
            "_view_count": null,
            "visible": true,
            "min_zoom": 1,
            "tms": false,
            "_model_module": "jupyter-leaflet",
            "loading": false,
            "bottom": true,
            "no_wrap": false,
            "tile_size": 256,
            "popup_min_width": 50,
            "opacity": 1,
            "popup": null,
            "attribution": "Map data (c) <a href=\"https://openstreetmap.org\">OpenStreetMap</a> contributors",
            "_model_name": "LeafletTileLayerModel",
            "max_native_zoom": 18,
            "base": true,
            "min_native_zoom": 0,
            "show_loading": false,
            "name": "",
            "url": "https://{s}.tile.openstreetmap.org/{z}/{x}/{y}.png",
            "popup_max_height": null,
            "popup_max_width": 300,
            "detect_retina": false,
            "_view_module_version": "^0.14.0",
            "options": [
              "attribution",
              "detect_retina",
              "max_native_zoom",
              "max_zoom",
              "min_native_zoom",
              "min_zoom",
              "no_wrap",
              "tile_size",
              "tms"
            ]
          }
        },
        "328b9589ee0f4db0b532034ba62b57e8": {
          "model_module": "jupyter-leaflet",
          "model_name": "LeafletTileLayerModel",
          "model_module_version": "^0.14.0",
          "state": {
            "_view_name": "LeafletTileLayerView",
            "_view_module": "jupyter-leaflet",
            "max_zoom": 24,
            "_model_module_version": "^0.14.0",
            "_view_count": null,
            "visible": true,
            "min_zoom": 0,
            "tms": false,
            "_model_module": "jupyter-leaflet",
            "loading": false,
            "bottom": true,
            "no_wrap": false,
            "tile_size": 256,
            "popup_min_width": 50,
            "opacity": 1,
            "popup": null,
            "attribution": "Google",
            "_model_name": "LeafletTileLayerModel",
            "max_native_zoom": 18,
            "base": false,
            "min_native_zoom": 0,
            "show_loading": false,
            "name": "Google Maps",
            "url": "https://mt1.google.com/vt/lyrs=m&x={x}&y={y}&z={z}",
            "popup_max_height": null,
            "popup_max_width": 300,
            "detect_retina": false,
            "_view_module_version": "^0.14.0",
            "options": [
              "attribution",
              "detect_retina",
              "max_native_zoom",
              "max_zoom",
              "min_native_zoom",
              "min_zoom",
              "no_wrap",
              "tile_size",
              "tms"
            ]
          }
        },
        "b060737c263b49a088a20b81efd26837": {
          "model_module": "jupyter-leaflet",
          "model_name": "LeafletTileLayerModel",
          "model_module_version": "^0.14.0",
          "state": {
            "_view_name": "LeafletTileLayerView",
            "_view_module": "jupyter-leaflet",
            "max_zoom": 24,
            "_model_module_version": "^0.14.0",
            "_view_count": null,
            "visible": true,
            "min_zoom": 0,
            "tms": false,
            "_model_module": "jupyter-leaflet",
            "loading": true,
            "bottom": true,
            "no_wrap": false,
            "tile_size": 256,
            "popup_min_width": 50,
            "opacity": 1,
            "popup": null,
            "attribution": "Google Earth Engine",
            "_model_name": "LeafletTileLayerModel",
            "max_native_zoom": 18,
            "base": false,
            "min_native_zoom": 0,
            "show_loading": false,
            "name": "Rwanda",
            "url": "https://earthengine.googleapis.com/v1alpha/projects/earthengine-legacy/maps/d232014515bc0d567432eadf2bbe79fb-30d78c06f7936f6eca882aa58c228592/tiles/{z}/{x}/{y}",
            "popup_max_height": null,
            "popup_max_width": 300,
            "detect_retina": false,
            "_view_module_version": "^0.14.0",
            "options": [
              "attribution",
              "detect_retina",
              "max_native_zoom",
              "max_zoom",
              "min_native_zoom",
              "min_zoom",
              "no_wrap",
              "tile_size",
              "tms"
            ]
          }
        },
        "e16cdd33df984aefb01ba2f1b1ceacf9": {
          "model_module": "jupyter-leaflet",
          "model_name": "LeafletTileLayerModel",
          "model_module_version": "^0.14.0",
          "state": {
            "_view_name": "LeafletTileLayerView",
            "_view_module": "jupyter-leaflet",
            "max_zoom": 24,
            "_model_module_version": "^0.14.0",
            "_view_count": null,
            "visible": true,
            "min_zoom": 0,
            "tms": false,
            "_model_module": "jupyter-leaflet",
            "loading": true,
            "bottom": true,
            "no_wrap": false,
            "tile_size": 256,
            "popup_min_width": 50,
            "opacity": 1,
            "popup": null,
            "attribution": "Google Earth Engine",
            "_model_name": "LeafletTileLayerModel",
            "max_native_zoom": 18,
            "base": false,
            "min_native_zoom": 0,
            "show_loading": false,
            "name": "NDVI",
            "url": "https://earthengine.googleapis.com/v1alpha/projects/earthengine-legacy/maps/2bbed06c2cb9dd533d8c1beccb3ba446-4dc7370978c6c2e7ef50ccc7fac9a3ce/tiles/{z}/{x}/{y}",
            "popup_max_height": null,
            "popup_max_width": 300,
            "detect_retina": false,
            "_view_module_version": "^0.14.0",
            "options": [
              "attribution",
              "detect_retina",
              "max_native_zoom",
              "max_zoom",
              "min_native_zoom",
              "min_zoom",
              "no_wrap",
              "tile_size",
              "tms"
            ]
          }
        },
        "6af57b6642a044caafb6abba845c6160": {
          "model_module": "jupyter-leaflet",
          "model_name": "LeafletMapStyleModel",
          "model_module_version": "^0.14.0",
          "state": {
            "_view_name": "StyleView",
            "_model_name": "LeafletMapStyleModel",
            "_view_module": "@jupyter-widgets/base",
            "_model_module_version": "^0.14.0",
            "_view_count": null,
            "cursor": "move",
            "_view_module_version": "1.2.0",
            "_model_module": "jupyter-leaflet"
          }
        },
        "a2180ceaf4ca476ea6e53066de029f3a": {
          "model_module": "@jupyter-widgets/controls",
          "model_name": "HBoxModel",
          "model_module_version": "1.5.0",
          "state": {
            "_view_name": "HBoxView",
            "_dom_classes": [],
            "_model_name": "HBoxModel",
            "_view_module": "@jupyter-widgets/controls",
            "_model_module_version": "1.5.0",
            "_view_count": null,
            "_view_module_version": "1.5.0",
            "box_style": "",
            "layout": "IPY_MODEL_8a3b61fe80cf417fbc6cfd5194b251c4",
            "_model_module": "@jupyter-widgets/controls",
            "children": [
              "IPY_MODEL_3349567a83d44ac4878d5eb1da33c51c"
            ]
          }
        },
        "0dc9fc9a221242449099c63f09e9d574": {
          "model_module": "@jupyter-widgets/controls",
          "model_name": "VBoxModel",
          "model_module_version": "1.5.0",
          "state": {
            "_view_name": "VBoxView",
            "_dom_classes": [],
            "_model_name": "VBoxModel",
            "_view_module": "@jupyter-widgets/controls",
            "_model_module_version": "1.5.0",
            "_view_count": null,
            "_view_module_version": "1.5.0",
            "box_style": "",
            "layout": "IPY_MODEL_a506e3678261413e86c6fc72f9f46dc2",
            "_model_module": "@jupyter-widgets/controls",
            "children": [
              "IPY_MODEL_0b48a48668b04ed08f93f418c60945ff"
            ]
          }
        },
        "8a3b61fe80cf417fbc6cfd5194b251c4": {
          "model_module": "@jupyter-widgets/base",
          "model_name": "LayoutModel",
          "model_module_version": "1.2.0",
          "state": {
            "_view_name": "LayoutView",
            "grid_template_rows": null,
            "right": null,
            "justify_content": null,
            "_view_module": "@jupyter-widgets/base",
            "overflow": null,
            "_model_module_version": "1.2.0",
            "_view_count": null,
            "flex_flow": null,
            "width": null,
            "min_width": null,
            "border": null,
            "align_items": null,
            "bottom": null,
            "_model_module": "@jupyter-widgets/base",
            "top": null,
            "grid_column": null,
            "overflow_y": null,
            "overflow_x": null,
            "grid_auto_flow": null,
            "grid_area": null,
            "grid_template_columns": null,
            "flex": null,
            "_model_name": "LayoutModel",
            "justify_items": null,
            "grid_row": null,
            "max_height": null,
            "align_content": null,
            "visibility": null,
            "align_self": null,
            "height": null,
            "min_height": null,
            "padding": null,
            "grid_auto_rows": null,
            "grid_gap": null,
            "max_width": null,
            "order": null,
            "_view_module_version": "1.2.0",
            "grid_template_areas": null,
            "object_position": null,
            "object_fit": null,
            "grid_auto_columns": null,
            "margin": null,
            "display": null,
            "left": null
          }
        },
        "3349567a83d44ac4878d5eb1da33c51c": {
          "model_module": "@jupyter-widgets/controls",
          "model_name": "ToggleButtonModel",
          "model_module_version": "1.5.0",
          "state": {
            "_view_name": "ToggleButtonView",
            "style": "IPY_MODEL_702138897dc6445796012c538c1dca26",
            "_dom_classes": [],
            "description": "",
            "_model_name": "ToggleButtonModel",
            "button_style": "",
            "_view_module": "@jupyter-widgets/controls",
            "_model_module_version": "1.5.0",
            "tooltip": "Search location/data",
            "_view_count": null,
            "disabled": false,
            "_view_module_version": "1.5.0",
            "value": false,
            "description_tooltip": null,
            "_model_module": "@jupyter-widgets/controls",
            "layout": "IPY_MODEL_34bf6c6090de40b1967db120f7221e70",
            "icon": "globe"
          }
        },
        "a506e3678261413e86c6fc72f9f46dc2": {
          "model_module": "@jupyter-widgets/base",
          "model_name": "LayoutModel",
          "model_module_version": "1.2.0",
          "state": {
            "_view_name": "LayoutView",
            "grid_template_rows": null,
            "right": null,
            "justify_content": null,
            "_view_module": "@jupyter-widgets/base",
            "overflow": null,
            "_model_module_version": "1.2.0",
            "_view_count": null,
            "flex_flow": null,
            "width": null,
            "min_width": null,
            "border": null,
            "align_items": null,
            "bottom": null,
            "_model_module": "@jupyter-widgets/base",
            "top": null,
            "grid_column": null,
            "overflow_y": null,
            "overflow_x": null,
            "grid_auto_flow": null,
            "grid_area": null,
            "grid_template_columns": null,
            "flex": null,
            "_model_name": "LayoutModel",
            "justify_items": null,
            "grid_row": null,
            "max_height": null,
            "align_content": null,
            "visibility": null,
            "align_self": null,
            "height": null,
            "min_height": null,
            "padding": null,
            "grid_auto_rows": null,
            "grid_gap": null,
            "max_width": null,
            "order": null,
            "_view_module_version": "1.2.0",
            "grid_template_areas": null,
            "object_position": null,
            "object_fit": null,
            "grid_auto_columns": null,
            "margin": null,
            "display": null,
            "left": null
          }
        },
        "0b48a48668b04ed08f93f418c60945ff": {
          "model_module": "@jupyter-widgets/controls",
          "model_name": "ToggleButtonModel",
          "model_module_version": "1.5.0",
          "state": {
            "_view_name": "ToggleButtonView",
            "style": "IPY_MODEL_d44b4c0a1ca743ea8bd26f683dc3991d",
            "_dom_classes": [],
            "description": "",
            "_model_name": "ToggleButtonModel",
            "button_style": "",
            "_view_module": "@jupyter-widgets/controls",
            "_model_module_version": "1.5.0",
            "tooltip": "Toolbar",
            "_view_count": null,
            "disabled": false,
            "_view_module_version": "1.5.0",
            "value": false,
            "description_tooltip": null,
            "_model_module": "@jupyter-widgets/controls",
            "layout": "IPY_MODEL_f3cd50a9ef6e4c0dae17f002f370866a",
            "icon": "wrench"
          }
        },
        "702138897dc6445796012c538c1dca26": {
          "model_module": "@jupyter-widgets/controls",
          "model_name": "DescriptionStyleModel",
          "model_module_version": "1.5.0",
          "state": {
            "_view_name": "StyleView",
            "_model_name": "DescriptionStyleModel",
            "description_width": "",
            "_view_module": "@jupyter-widgets/base",
            "_model_module_version": "1.5.0",
            "_view_count": null,
            "_view_module_version": "1.2.0",
            "_model_module": "@jupyter-widgets/controls"
          }
        },
        "34bf6c6090de40b1967db120f7221e70": {
          "model_module": "@jupyter-widgets/base",
          "model_name": "LayoutModel",
          "model_module_version": "1.2.0",
          "state": {
            "_view_name": "LayoutView",
            "grid_template_rows": null,
            "right": null,
            "justify_content": null,
            "_view_module": "@jupyter-widgets/base",
            "overflow": null,
            "_model_module_version": "1.2.0",
            "_view_count": null,
            "flex_flow": null,
            "width": "28px",
            "min_width": null,
            "border": null,
            "align_items": null,
            "bottom": null,
            "_model_module": "@jupyter-widgets/base",
            "top": null,
            "grid_column": null,
            "overflow_y": null,
            "overflow_x": null,
            "grid_auto_flow": null,
            "grid_area": null,
            "grid_template_columns": null,
            "flex": null,
            "_model_name": "LayoutModel",
            "justify_items": null,
            "grid_row": null,
            "max_height": null,
            "align_content": null,
            "visibility": null,
            "align_self": null,
            "height": "28px",
            "min_height": null,
            "padding": "0px 0px 0px 4px",
            "grid_auto_rows": null,
            "grid_gap": null,
            "max_width": null,
            "order": null,
            "_view_module_version": "1.2.0",
            "grid_template_areas": null,
            "object_position": null,
            "object_fit": null,
            "grid_auto_columns": null,
            "margin": null,
            "display": null,
            "left": null
          }
        },
        "d44b4c0a1ca743ea8bd26f683dc3991d": {
          "model_module": "@jupyter-widgets/controls",
          "model_name": "DescriptionStyleModel",
          "model_module_version": "1.5.0",
          "state": {
            "_view_name": "StyleView",
            "_model_name": "DescriptionStyleModel",
            "description_width": "",
            "_view_module": "@jupyter-widgets/base",
            "_model_module_version": "1.5.0",
            "_view_count": null,
            "_view_module_version": "1.2.0",
            "_model_module": "@jupyter-widgets/controls"
          }
        },
        "f3cd50a9ef6e4c0dae17f002f370866a": {
          "model_module": "@jupyter-widgets/base",
          "model_name": "LayoutModel",
          "model_module_version": "1.2.0",
          "state": {
            "_view_name": "LayoutView",
            "grid_template_rows": null,
            "right": null,
            "justify_content": null,
            "_view_module": "@jupyter-widgets/base",
            "overflow": null,
            "_model_module_version": "1.2.0",
            "_view_count": null,
            "flex_flow": null,
            "width": "28px",
            "min_width": null,
            "border": null,
            "align_items": null,
            "bottom": null,
            "_model_module": "@jupyter-widgets/base",
            "top": null,
            "grid_column": null,
            "overflow_y": null,
            "overflow_x": null,
            "grid_auto_flow": null,
            "grid_area": null,
            "grid_template_columns": null,
            "flex": null,
            "_model_name": "LayoutModel",
            "justify_items": null,
            "grid_row": null,
            "max_height": null,
            "align_content": null,
            "visibility": null,
            "align_self": null,
            "height": "28px",
            "min_height": null,
            "padding": "0px 0px 0px 4px",
            "grid_auto_rows": null,
            "grid_gap": null,
            "max_width": null,
            "order": null,
            "_view_module_version": "1.2.0",
            "grid_template_areas": null,
            "object_position": null,
            "object_fit": null,
            "grid_auto_columns": null,
            "margin": null,
            "display": null,
            "left": null
          }
        }
      }
    }
  },
  "cells": [
    {
      "cell_type": "markdown",
      "metadata": {
        "id": "view-in-github",
        "colab_type": "text"
      },
      "source": [
        "<a href=\"https://colab.research.google.com/github/timlamec/work/blob/master/Image_collection_and_Supervised_classification.ipynb\" target=\"_parent\"><img src=\"https://colab.research.google.com/assets/colab-badge.svg\" alt=\"Open In Colab\"/></a>"
      ]
    },
    {
      "cell_type": "code",
      "metadata": {
        "colab": {
          "base_uri": "https://localhost:8080/",
          "height": 203
        },
        "id": "0UY698Ybr6fg",
        "outputId": "cee77849-5685-47fd-afbd-e8c4ebd83a9b"
      },
      "source": [
        " # Installs geemap package\n",
        "import subprocess\n",
        " \n",
        "try:\n",
        "    import geemap\n",
        "except ImportError:\n",
        "    print('geemap package not installed. Installing ...')\n",
        "    subprocess.check_call([\"python\", '-m', 'pip', 'install', 'geemap'])\n",
        " \n",
        "# Checks whether this notebook is running on Google Colab\n",
        "try:\n",
        "    import google.colab\n",
        "    import geemap.eefolium as geemap\n",
        "except:\n",
        "    import geemap\n",
        " \n",
        "# Authenticates and initializes Earth Engine\n",
        "import ee\n",
        " \n",
        "try:\n",
        "    ee.Initialize()\n",
        "except Exception as e:\n",
        "    ee.Authenticate()\n",
        "    ee.Initialize()"
      ],
      "execution_count": null,
      "outputs": [
        {
          "output_type": "stream",
          "name": "stdout",
          "text": [
            "geemap package not installed. Installing ...\n",
            "To authorize access needed by Earth Engine, open the following URL in a web browser and follow the instructions. If the web browser does not start automatically, please manually browse the URL below.\n",
            "\n",
            "    https://accounts.google.com/o/oauth2/auth?client_id=517222506229-vsmmajv00ul0bs7p89v5m89qs8eb9359.apps.googleusercontent.com&scope=https%3A%2F%2Fwww.googleapis.com%2Fauth%2Fearthengine+https%3A%2F%2Fwww.googleapis.com%2Fauth%2Fdevstorage.full_control&redirect_uri=urn%3Aietf%3Awg%3Aoauth%3A2.0%3Aoob&response_type=code&code_challenge=oJUoLGgAuKK0ozO2-dbeKmm_2eiLVvr99CSFK0HG5H8&code_challenge_method=S256\n",
            "\n",
            "The authorization workflow will generate a code, which you should paste in the box below. \n",
            "Enter verification code: 4/1AX4XfWi1Ujo3myxE7w6xxF75C_DMfaa3UQOw_k1zZ-JRePH1cSvoO_fm8Nk\n",
            "\n",
            "Successfully saved authorization token.\n"
          ]
        }
      ]
    },
    {
      "cell_type": "code",
      "metadata": {
        "id": "_G5f9KW5I3Wd"
      },
      "source": [
        "# !pip install geopandas \n",
        "# !pip -q install rasterio"
      ],
      "execution_count": null,
      "outputs": []
    },
    {
      "cell_type": "markdown",
      "metadata": {
        "id": "_qadfWvU5Afa"
      },
      "source": [
        "# 1 Import Libraries"
      ]
    },
    {
      "cell_type": "code",
      "metadata": {
        "id": "rJ6jsQbZsDJB"
      },
      "source": [
        "import ee\n",
        "import geemap\n",
        "import geemap.eefolium\n",
        "#import rasterio\n",
        "#from rasterio import plot\n",
        "#%matplotlib inline"
      ],
      "execution_count": null,
      "outputs": []
    },
    {
      "cell_type": "markdown",
      "metadata": {
        "id": "Pb5XuKJ15IZP"
      },
      "source": [
        "# 2 Define Area of interest\n",
        "\n",
        "Here replace the counties affected with your google earth engine asset or use a shapefile and convert it to GEE asset using the function in section *3* you may also subset the various counties. "
      ]
    },
    {
      "cell_type": "markdown",
      "metadata": {
        "id": "hfERds_GR7Xr"
      },
      "source": [
        ""
      ]
    },
    {
      "cell_type": "code",
      "metadata": {
        "id": "SPDC--9FsT81"
      },
      "source": [
        "# Counties Affected Area of interest\n",
        "Counties_affected =  ee.FeatureCollection('users/collinsasegaca/Affected_counties') #https://drive.google.com/file/d/1VAZ879vzOUv9Hbo2PWFwCczYIGWityfS/view?usp=sharing\n",
        "naiserian = ee.FeatureCollection('users/collinsasegaca/naiserian') \n",
        "# # Subset the counties since the entire region takes too much time to compute  #link to the shapefiles https://drive.google.com/drive/folders/1eFN6ZZKN3f-KHJMx4AaDP2Ko3psUOb6W?usp=sharing\n",
        "# Elgeiyo_Baringo = './drive/MyDrive/omdena/affected_counties/brokendown/Elgeyo_baringo.shp' # Elgeiyo Marakwet & Baringo \n",
        "# Laikipia_samburu = './drive/MyDrive/omdena/affected_counties/brokendown/Laikipia_samburu.shp' #  Laikipia_samburu\n",
        "# Kitui = './drive/MyDrive/omdena/affected_counties/brokendown/Kitui.shp' # Kitui\n",
        "# Mandera = './drive/MyDrive/omdena/affected_counties/brokendown/Mandera.shp' # Mandera\n",
        "# Machakos_embu = './drive/MyDrive/omdena/affected_counties/brokendown/Machakos_embu.shp' # Machakos_embu\n",
        "# Marsabit = './drive/MyDrive/omdena/affected_counties/brokendown/Marsabit.shp' # Marsabit\n",
        "# Meru_isolo ='./drive/MyDrive/omdena/affected_counties/brokendown/Meru_isolo.shp' # Meru and Isiolo\n",
        "# Tana = './drive/MyDrive/omdena/affected_counties/brokendown/Tana.shp' #Tana\n",
        "# Turkana = './drive/MyDrive/omdena/affected_counties/brokendown/Turkana.shp' \n",
        "# Wajir = './drive/MyDrive/omdena/affected_counties/brokendown/Wajir.shp' #Wajir \n",
        "# Garissa = './drive/MyDrive/omdena/affected_counties/brokendown/Garissa.shp' # Garisa\n",
        "\n",
        "Rwanda = ee.FeatureCollection(\"users/lericnganga/RWANDA/Rwanda_Boundary_1kmbuffer\");\n",
        "Rwanda_TrainingData_2021_v5 = ee.FeatureCollection(\"users/lericnganga/RWANDA/Rwanda_TrainingData_2021_v5\")\n",
        "\n",
        " \n",
        "# "
      ],
      "execution_count": null,
      "outputs": []
    },
    {
      "cell_type": "code",
      "metadata": {
        "id": "AYbIPYgZB8io"
      },
      "source": [
        ""
      ],
      "execution_count": null,
      "outputs": []
    },
    {
      "cell_type": "code",
      "metadata": {
        "id": "lnD6P8RbADOM"
      },
      "source": [
        "def maskS2clouds(image): \n",
        "   qa = image.select('QA60');\n",
        "\n",
        "   # Bits 10 and 11 are clouds and cirrus, respectively.\n",
        "   cloudBitMask = 1 << 10;\n",
        "   cirrusBitMask = 1 << 11;\n",
        "\n",
        "   # Both flags should be set to zero, indicating clear conditions.\n",
        "   mask = qa.bitwiseAnd(cloudBitMask).eq(0)#and(qa.bitwiseAnd(cirrusBitMask).eq(0));\n",
        "\n",
        "   return image.updateMask(mask).divide(10000);"
      ],
      "execution_count": null,
      "outputs": []
    },
    {
      "cell_type": "markdown",
      "metadata": {
        "id": "yb03GQZc5heD"
      },
      "source": [
        "3 Convert shapefiles to google earth engine objects "
      ]
    },
    {
      "cell_type": "code",
      "metadata": {
        "id": "zK86rSgV4k9s"
      },
      "source": [
        "def conv(in_shp):\n",
        "  ee_object = geemap.shp_to_ee(in_shp)\n",
        "  return ee_object"
      ],
      "execution_count": null,
      "outputs": []
    },
    {
      "cell_type": "markdown",
      "metadata": {
        "id": "96oi6p1e5o6S"
      },
      "source": [
        "4 Define the dates"
      ]
    },
    {
      "cell_type": "code",
      "metadata": {
        "id": "UyOwsl5k-lrN"
      },
      "source": [
        "# date before attack\n",
        "fdate = '2019-08-1' #('2017-01-1' ,'2017-12-31')\n",
        "ldate = '2019-12-25'\n",
        " \n",
        "#date after attack\n",
        "after_fdate = '2020-1-1'\n",
        "after_ldate = '2020-5-31'"
      ],
      "execution_count": null,
      "outputs": []
    },
    {
      "cell_type": "markdown",
      "metadata": {
        "id": "TtTcUqJr5xX7"
      },
      "source": [
        "# 5 Image collection"
      ]
    },
    {
      "cell_type": "code",
      "metadata": {
        "id": "kkQjhmORzByj"
      },
      "source": [
        "# NDVI function for L8\n",
        "def NDVI_L8(image):\n",
        "  ndvi= image.normalizedDifference(['B5','B4']).rename('NDVI') #Compute the NDVI values while Using the NIR and Red Bands\n",
        "  \n",
        "\n",
        "  return image.addBands(ndvi)"
      ],
      "execution_count": null,
      "outputs": []
    },
    {
      "cell_type": "code",
      "metadata": {
        "id": "qDsT_RCo-yGn"
      },
      "source": [
        "def sentinel_2_before(geometry):\n",
        "  collection = ee.ImageCollection(\"COPERNICUS/S2\") \\\n",
        "    .filter(ee.Filter.lt(\"CLOUDY_PIXEL_PERCENTAGE\", 10)) \\\n",
        "    .filterBounds(geometry) \\\n",
        " \n",
        "  before_collection = collection.filterDate(fdate,ldate)# before attack\n",
        "  \n",
        "  medianpixels_before = before_collection.map(maskS2clouds).median()\n",
        "  medianpixelsclipped_before = medianpixels_before.clip(geometry) #.divide(10000)\n",
        "  return medianpixelsclipped_before"
      ],
      "execution_count": null,
      "outputs": []
    },
    {
      "cell_type": "code",
      "metadata": {
        "id": "flrTV30JGQwW"
      },
      "source": [
        "\n",
        "Rwanda_image = sentinel_2_before(Rwanda)"
      ],
      "execution_count": null,
      "outputs": []
    },
    {
      "cell_type": "code",
      "metadata": {
        "id": "71MRG_qRLcsF"
      },
      "source": [
        "\n",
        "vis_params = {\n",
        "    'min': 0,\n",
        "    'max': 1,\n",
        "    'bands': ['B12', 'B11', 'B4'], 'gamma': 1.5\n",
        "  }"
      ],
      "execution_count": null,
      "outputs": []
    },
    {
      "cell_type": "markdown",
      "metadata": {
        "id": "PmQXDdeI6Uwk"
      },
      "source": [
        "6 Visualize the Image"
      ]
    },
    {
      "cell_type": "code",
      "metadata": {
        "id": "Dpjo4HVk7g4s"
      },
      "source": [
        "NDVI = NDVI_L8(All_Counties_after)"
      ],
      "execution_count": null,
      "outputs": []
    },
    {
      "cell_type": "code",
      "metadata": {
        "id": "rNO2q2qy87k1"
      },
      "source": [
        "ndvi_palette = ['FFFFFF', 'CE7E45', 'DF923D', 'F1B555', 'FCD163', '99B718',\n",
        "               '74A901', '66A000', '529400', '3E8601', '207401', '056201',\n",
        "               '004C00', '023B01', '012E01', '011D01', '011301'];\n",
        "vis_ndvi ={'min':0, 'max':3,'palette':ndvi_palette}"
      ],
      "execution_count": null,
      "outputs": []
    },
    {
      "cell_type": "code",
      "metadata": {
        "id": "qYyUeuWb8Qda"
      },
      "source": [
        "# NDVI.bandNames().getInfo()"
      ],
      "execution_count": null,
      "outputs": []
    },
    {
      "cell_type": "code",
      "metadata": {
        "colab": {
          "base_uri": "https://localhost:8080/",
          "height": 621,
          "referenced_widgets": [
            "859587b3d45e4992a2e67721bf2618bf",
            "af02446994ca42e8b4199035f53cd8a2",
            "825a17d85f4747a096680b200285274a",
            "fa58a2414398498797429649c056c9c7",
            "5c2bd6da72734153984b104a925af94c",
            "6c0aca211ec248ec928412e31c1cd78b",
            "20893661046a4c47a35c3c542835d616",
            "aa7cd25ad9794f60a7160f232d664d14",
            "51ec5dccc0e5414caf72924e3024235e",
            "d4e5c7b50e5d467bb77ab125197fc30f",
            "ade12484f99b4a4abde6a92646497906",
            "54a64291531d413ea6cdfe5389a0fa9e",
            "d6365ea4878943ac85c499c7e774398f",
            "328b9589ee0f4db0b532034ba62b57e8",
            "b060737c263b49a088a20b81efd26837",
            "e16cdd33df984aefb01ba2f1b1ceacf9",
            "6af57b6642a044caafb6abba845c6160",
            "a2180ceaf4ca476ea6e53066de029f3a",
            "0dc9fc9a221242449099c63f09e9d574",
            "8a3b61fe80cf417fbc6cfd5194b251c4",
            "3349567a83d44ac4878d5eb1da33c51c",
            "a506e3678261413e86c6fc72f9f46dc2",
            "0b48a48668b04ed08f93f418c60945ff",
            "702138897dc6445796012c538c1dca26",
            "34bf6c6090de40b1967db120f7221e70",
            "d44b4c0a1ca743ea8bd26f683dc3991d",
            "f3cd50a9ef6e4c0dae17f002f370866a"
          ]
        },
        "id": "UKS7flPgG_eX",
        "outputId": "dfb3d593-e3e1-4402-ae6f-0561372a6384"
      },
      "source": [
        "Map_p = geemap.Map()\n",
        "Map_p.addLayer(Rwanda_image, vis_params, 'Rwanda',1)\n",
        "Map_p.addLayer(classify_Rwanda,vis_ndvi, 'NDVI')\n",
        "Map_p.centerObject(Rwanda, 8)\n",
        "Map_p.addLayerControl()\n",
        "Map_p"
      ],
      "execution_count": null,
      "outputs": [
        {
          "output_type": "display_data",
          "data": {
            "application/vnd.jupyter.widget-view+json": {
              "model_id": "859587b3d45e4992a2e67721bf2618bf",
              "version_minor": 0,
              "version_major": 2
            },
            "text/plain": [
              "Map(center=[-2.0014515352750792, 29.925550450611976], controls=(WidgetControl(options=['position', 'transparen…"
            ]
          },
          "metadata": {
            "application/vnd.jupyter.widget-view+json": {
              "colab": {
                "custom_widget_manager": {
                  "url": "https://ssl.gstatic.com/colaboratory-static/widgets/colab-cdn-widget-manager/a8874ba6619b6106/manager.min.js"
                }
              }
            }
          }
        }
      ]
    },
    {
      "cell_type": "markdown",
      "metadata": {
        "id": "362feXYS8eTy"
      },
      "source": [
        "7 Build a webmap visualization \n"
      ]
    },
    {
      "cell_type": "code",
      "metadata": {
        "id": "m9SrNPI98m2Y"
      },
      "source": [
        "Map_p.save('counties_affected_before&after.html',close_file=True)"
      ],
      "execution_count": null,
      "outputs": []
    },
    {
      "cell_type": "markdown",
      "metadata": {
        "id": "PQzQom6f9afw"
      },
      "source": [
        "Getting images for respective counties \n",
        "here you only read to read a shapefile from your drive and use the function to convert to gee object "
      ]
    },
    {
      "cell_type": "markdown",
      "metadata": {
        "id": "0ONvAhVh-SbC"
      },
      "source": [
        "Generate training points from sentinel 2 2016 LULC image for kenya \n",
        "\n",
        "link= http://geoportal.rcmrd.org/layers/servir%3Akenya_sentinel2_lulc2016"
      ]
    },
    {
      "cell_type": "markdown",
      "metadata": {
        "id": "ySPYDIyS-__b"
      },
      "source": [
        "8 Train the model and classify the images"
      ]
    },
    {
      "cell_type": "code",
      "metadata": {
        "id": "rtV1UkZPP-Ws"
      },
      "source": [
        "# Training and classifiy\n",
        "def Train_classify(Image,points): \n",
        "  bands = ['B2', 'B3', 'B4', 'B8']\n",
        " \n",
        " \n",
        "# This property of the table stores the land cover labels.\n",
        "  label = 'LC_Code'\n",
        " \n",
        "# Overlay the points on the imagery to get training for the before imge\n",
        "  training = Image.select(bands).sampleRegions(**{\n",
        "    'collection': points,\n",
        "    'properties': [label],\n",
        "    'scale': 10\n",
        "  })\n",
        " \n",
        "# Train a CART classifier with default parameters.\n",
        "  trained = ee.Classifier.smileCart().train(training, label, bands)\n",
        "  # Classify the image with the same bands used for training.\n",
        "  result = image.select(bands).classify(trained)\n",
        "  return result"
      ],
      "execution_count": null,
      "outputs": []
    },
    {
      "cell_type": "code",
      "metadata": {
        "colab": {
          "base_uri": "https://localhost:8080/"
        },
        "id": "A2IrNpEYNIAB",
        "outputId": "d28b35e9-9c35-4347-fbac-efc61505b4cc"
      },
      "source": [
        "classify_Rwanda.bandNames().getInfo()"
      ],
      "execution_count": null,
      "outputs": [
        {
          "output_type": "execute_result",
          "data": {
            "text/plain": [
              "['classification']"
            ]
          },
          "metadata": {},
          "execution_count": 82
        }
      ]
    },
    {
      "cell_type": "code",
      "metadata": {
        "id": "PhjFarCY_fZy"
      },
      "source": [
        "classify_Rwanda = Train_classify(Rwanda_image,Rwanda_TrainingData_2021_v5)"
      ],
      "execution_count": null,
      "outputs": []
    },
    {
      "cell_type": "code",
      "metadata": {
        "colab": {
          "base_uri": "https://localhost:8080/"
        },
        "id": "YO5fJgP8nBlS",
        "outputId": "29cb6af9-abfd-4037-f892-11ca99e8dfe9"
      },
      "source": [
        "#Export result\n",
        "geemap.ee_export_image_to_drive(Garrisa_Classified_before, description='Garissa_before', folder='omdena', scale=10)"
      ],
      "execution_count": null,
      "outputs": [
        {
          "output_type": "stream",
          "text": [
            "Exporting Garissa_before ...\n"
          ],
          "name": "stdout"
        }
      ]
    },
    {
      "cell_type": "markdown",
      "metadata": {
        "id": "-o2rBE6I4xSS"
      },
      "source": [
        "## 9 Accuracy assement \n",
        "## Overall Accuracy essentially tells us out of all of the reference sites what proportion were mapped correctly. The overall accuracy is usually expressed as a percent, with 100% accuracy being a perfect classification where all reference site were classified correctly\n",
        "\n",
        "There are various methods to check accuracy including:\n",
        "\n",
        "***Kappa***\n",
        "The Kappa Coefficient is generated from a statistical test to evaluate the accuracy of a classification. Kappa essentially evaluates how well the classification performed as compared to just randomly assigning values, i.e. did the classification do better than random. The Kappa Coefficient can range from -1 t0 1. A value of 0 indicated that the classification is no better than a random classification. A negative number indicates the classification is significantly worse than random. A value close to 1 indicates that the classification is significantly better than random.\n",
        "\n",
        "***confusionMatrix()***\n",
        "\n",
        "# confusionMatrix() computes a 2D confusion matrix for a classifier based on its training data (ie: resubstitution error). Axis 0 of the matrix correspond to the input classes (i.e., reference data), and axis 1 to the output classes (i.e., classification data). The rows and columns start at class 0 and increase sequentially up to the maximum class value\n",
        "\n",
        "\n",
        "\n"
      ]
    },
    {
      "cell_type": "code",
      "metadata": {
        "id": "9TgqTkVx42HJ"
      },
      "source": [
        "#Split Training and testing\n",
        "def train_test(train_Test):\n",
        "  bands = ['B2', 'B3', 'B4', 'B8']\n",
        "\n",
        "\n",
        "  # This property of the table stores the land cover labels.\n",
        "  label = 'LC_Code'\n",
        "\n",
        "  # Overlay the points on the imagery to get training for the before imge\n",
        "  sample = image.select(bands).sampleRegions(**{\n",
        "    'collection': points,\n",
        "    'properties': [label],\n",
        "    'scale': 10\n",
        "  })\n",
        "\n",
        "  # Adds a column of deterministic pseudorandom numbers. \n",
        "  sample = sample.randomColumn()\n",
        "\n",
        "  split = 0.7\n",
        "\n",
        "  training_dta = sample.filter(ee.Filter.lt('random', split))\n",
        "  validation_dta = sample.filter(ee.Filter.gte('random', split))\n",
        "  #inspect the data\n",
        "  training_dta.first().getInfo()\n",
        "  validation_dta.first().getInfo()\n",
        "  # Train Classifier\n",
        "  classifier = ee.Classifier.smileRandomForest(10).train(training_dta, label, bands)\n",
        "  # Classify the image with the same bands used for training.\n",
        "  result_1 = image.select(bands).classify(classifier)\n",
        "  train_accuracy = classifier.confusionMatrix()\n",
        "  train_accuracy.getInfo()\n",
        "  train_accuracy.accuracy().getInfo()\n",
        "  print('confusionMatrix:',train_accuracy.accuracy().getInfo())\n",
        "  print('Kappa:',train_accuracy.kappa().getInfo())\n",
        "  validated = validation_dta.classify(classifier) # use the validation dataset\n",
        "  #test accuracy\n",
        "  test_accuracy = validated.errorMatrix('LC_Code', 'classification') # errorMatrix computes a 2D error matrix for a collection by comparing two columns of a collection: one containing the actual values, and one containing predicted values.\n",
        "  test_accuracy.accuracy().getInfo()\n",
        "  return result_1"
      ],
      "execution_count": null,
      "outputs": []
    },
    {
      "cell_type": "code",
      "metadata": {
        "id": "hmRzL3R546ey"
      },
      "source": [
        "image = Rwanda_image\n",
        "points = Rwanda_TrainingData_2021_v5"
      ],
      "execution_count": null,
      "outputs": []
    },
    {
      "cell_type": "code",
      "metadata": {
        "colab": {
          "base_uri": "https://localhost:8080/"
        },
        "id": "zKf8NXIFAOUo",
        "outputId": "377a4ae0-0a56-41ba-d41e-016c3b0c9c6a"
      },
      "source": [
        "accuracy_Garisaa = train_test(image)"
      ],
      "execution_count": null,
      "outputs": [
        {
          "output_type": "stream",
          "name": "stdout",
          "text": [
            "confusionMatrix: 0.9564053537284894\n",
            "Kappa: 0.9344999759097858\n"
          ]
        }
      ]
    },
    {
      "cell_type": "code",
      "metadata": {
        "colab": {
          "base_uri": "https://localhost:8080/"
        },
        "id": "JgE8jgtHK1If",
        "outputId": "50e92602-37d8-401f-c1b4-b9a2c65dbb7b"
      },
      "source": [
        "accuracy_Garisaa.bandNames().getInfo()"
      ],
      "execution_count": null,
      "outputs": [
        {
          "output_type": "execute_result",
          "data": {
            "text/plain": [
              "['classification']"
            ]
          },
          "metadata": {},
          "execution_count": 73
        }
      ]
    },
    {
      "cell_type": "markdown",
      "metadata": {
        "id": "A5tWp-XzWkvO"
      },
      "source": [
        "Elgeiyo Markwet and Baringo county"
      ]
    },
    {
      "cell_type": "markdown",
      "metadata": {
        "id": "Eg1ChUgssuWk"
      },
      "source": [
        "Accuracy asessment "
      ]
    },
    {
      "cell_type": "code",
      "metadata": {
        "id": "p7CA5IdYzxdK",
        "colab": {
          "base_uri": "https://localhost:8080/",
          "height": 190
        },
        "outputId": "713478e1-79ad-4e09-f2f4-a754278428cc"
      },
      "source": [
        "image = Elgyo_Baringo_image\n",
        "points = points_Elgeiyo_baringo"
      ],
      "execution_count": null,
      "outputs": [
        {
          "output_type": "error",
          "ename": "NameError",
          "evalue": "ignored",
          "traceback": [
            "\u001b[0;31m---------------------------------------------------------------------------\u001b[0m",
            "\u001b[0;31mNameError\u001b[0m                                 Traceback (most recent call last)",
            "\u001b[0;32m<ipython-input-18-1c51b43940bc>\u001b[0m in \u001b[0;36m<module>\u001b[0;34m()\u001b[0m\n\u001b[0;32m----> 1\u001b[0;31m \u001b[0mimage\u001b[0m \u001b[0;34m=\u001b[0m \u001b[0mElgyo_Baringo_image\u001b[0m\u001b[0;34m\u001b[0m\u001b[0;34m\u001b[0m\u001b[0m\n\u001b[0m\u001b[1;32m      2\u001b[0m \u001b[0mpoints\u001b[0m \u001b[0;34m=\u001b[0m \u001b[0mpoints_Elgeiyo_baringo\u001b[0m\u001b[0;34m\u001b[0m\u001b[0;34m\u001b[0m\u001b[0m\n",
            "\u001b[0;31mNameError\u001b[0m: name 'Elgyo_Baringo_image' is not defined"
          ]
        }
      ]
    },
    {
      "cell_type": "code",
      "metadata": {
        "colab": {
          "base_uri": "https://localhost:8080/"
        },
        "id": "dPR6fvKZx322",
        "outputId": "ae6cbffd-3775-4bfa-a964-ddf2d98484e8"
      },
      "source": [
        "accuracy_Elgyo_Baringo = train_test(image)\n"
      ],
      "execution_count": null,
      "outputs": [
        {
          "output_type": "stream",
          "text": [
            "confusionMatrix: 0.928494430470715\n",
            "Kappa: 0.9012755717465486\n"
          ],
          "name": "stdout"
        }
      ]
    },
    {
      "cell_type": "code",
      "metadata": {
        "id": "onI4mwDuh75g"
      },
      "source": [
        "#Export Before and After Images for \n",
        "# geemap.ee_export_image_to_drive(Elgyo_Baringo_Classified_After, description='Elgeiyo_Baringo_After', folder='omdena', scale=10)\n",
        "# geemap.ee_export_image_to_drive(Elgyo_Baringo_Classified_before, descripti='Elgeiyo_Baringo_before', folder='omdena', scale=10)"
      ],
      "execution_count": null,
      "outputs": []
    },
    {
      "cell_type": "markdown",
      "metadata": {
        "id": "QiofUwJuh87S"
      },
      "source": [
        "Kitui"
      ]
    },
    {
      "cell_type": "code",
      "metadata": {
        "id": "umCoERUIh3xF"
      },
      "source": [
        "AOI = conv(Kitui) # define AOI for the county\n",
        "Kitui_image_before = All_counties_before.clip(AOI.geometry()) # Get the image for the location \n",
        "# Generation of trianing Points\n",
        "\n",
        "ROI = AOI # define the Region to create points from the Sentinel 2 image \n",
        "points_Kitui = training(ROI) #this generates points from the function\n",
        "\n",
        "\n",
        "# Training and classifiy\n",
        "\n",
        "image = Kitui_image_before # defines the image for the Location\n",
        "points = points_Kitui # defines the points to be used \n",
        "Kitui_Classified_before = Train_classify(image)\n",
        "\n"
      ],
      "execution_count": null,
      "outputs": []
    },
    {
      "cell_type": "code",
      "metadata": {
        "id": "oak0tGAmmGrH"
      },
      "source": [
        "#after \n",
        "#AOI = conv(E) # define AOI for the county\n",
        "Kitui_after = All_Counties_after.clip(AOI.geometry()) # Get the image for the location \n",
        "# Generation of trianing Points\n",
        "\n",
        "#ROI = AOI # define the Region to create points from the Sentinel 2 image \n",
        "points_Kitui = training(ROI) #this generates points from the function\n",
        "\n",
        "# Training and classifiy\n",
        "\n",
        "image = Kitui_after # defines the image for the Location\n",
        "points = points_Kitui # defines the points to be used \n",
        "Kitui_Classified_After = Train_classify(image) "
      ],
      "execution_count": null,
      "outputs": []
    },
    {
      "cell_type": "markdown",
      "metadata": {
        "id": "bb12mbELEpyN"
      },
      "source": [
        "Accuracy assesment "
      ]
    },
    {
      "cell_type": "code",
      "metadata": {
        "colab": {
          "base_uri": "https://localhost:8080/"
        },
        "id": "cYTXwzyypoLH",
        "outputId": "2bbe7159-c649-4fa0-d807-d4afea37f3da"
      },
      "source": [
        "#Before image\n",
        "image = Kitui_image_before\n",
        "accuracy_Kitui = train_test(image)"
      ],
      "execution_count": null,
      "outputs": [
        {
          "output_type": "stream",
          "text": [
            "confusionMatrix: 0.9268590004063388\n",
            "Kappa: 0.8948542375215397\n"
          ],
          "name": "stdout"
        }
      ]
    },
    {
      "cell_type": "code",
      "metadata": {
        "colab": {
          "base_uri": "https://localhost:8080/"
        },
        "id": "UCPWsylAGYi2",
        "outputId": "e80a570b-44d9-4ad6-cb59-3975568cc580"
      },
      "source": [
        "# After image\n",
        "image = Kitui_after\n",
        "accuracy_Kitui = train_test(image)"
      ],
      "execution_count": null,
      "outputs": [
        {
          "output_type": "stream",
          "text": [
            "confusionMatrix: 0.9405619596541787\n",
            "Kappa: 0.8844543009598962\n"
          ],
          "name": "stdout"
        }
      ]
    },
    {
      "cell_type": "code",
      "metadata": {
        "id": "OS6QfnobthiQ"
      },
      "source": [
        "# Export Images \n",
        "# geemap.ee_export_image_to_drive(Kitui_Classified_After, description='Kitui_Classified_After', folder='omdena', scale=10)\n",
        "# geemap.ee_export_image_to_drive(Kitui_Classified_before, description='Kitui_Classified_before', folder='omdena', scale=10)"
      ],
      "execution_count": null,
      "outputs": []
    },
    {
      "cell_type": "markdown",
      "metadata": {
        "id": "4iSvvShbuHbH"
      },
      "source": [
        "Laikipia and Samburu"
      ]
    },
    {
      "cell_type": "code",
      "metadata": {
        "id": "c3w4bI8ZuKY-"
      },
      "source": [
        "AOI = conv(Laikipia_samburu) # define AOI for the county\n",
        "Laikipia_Samburu_before_image = All_counties_before.clip(AOI.geometry()) # Get the image for the location \n",
        "# Generation of trianing Points\n",
        "\n",
        "ROI = AOI # define the Region to create points from the Sentinel 2 image \n",
        "points_Laikipia_Samburu = training(ROI) #this generates points from the function\n",
        "\n",
        "# Training and classifiy\n",
        "\n",
        "image = Laikipia_Samburu_before_image # defines the image for the Location\n",
        "points = points_Laikipia_Samburu # defines the points to be used \n",
        "Laikipia_Samburu_Classified_before = Train_classify(image)\n",
        "\n",
        "#after\n",
        "#AOI = conv(Elgeiyo_Baringo) # define AOI for the county\n",
        "Laikipia_Samburu_after_image = All_Counties_after.clip(AOI.geometry()) # Get the image for the location \n",
        "# Generation of trianing Points\n",
        "\n",
        "#ROI = AOI # define the Region to create points from the Sentinel 2 image \n",
        "#points_Elgeiyo_baringo = training(ROI) #this generates points from the function\n",
        "\n",
        "# Training and classifiy\n",
        "\n",
        "image = Laikipia_Samburu_after_image # defines the image for the Location\n",
        "points = points_Laikipia_Samburu # defines the points to be used \n",
        "Laikipia_Samburu_Classified_after = Train_classify(image)\n",
        "\n"
      ],
      "execution_count": null,
      "outputs": []
    },
    {
      "cell_type": "markdown",
      "metadata": {
        "id": "cXNa37CRHNfI"
      },
      "source": [
        "Accuracy"
      ]
    },
    {
      "cell_type": "code",
      "metadata": {
        "colab": {
          "base_uri": "https://localhost:8080/"
        },
        "id": "wT4VgJL8HMfA",
        "outputId": "b93f647f-3a96-4619-dc5e-5b40eb14bf7a"
      },
      "source": [
        "#Before image\n",
        "image = Laikipia_Samburu_before_image\n",
        "accuracy_Kitui = train_test(image)"
      ],
      "execution_count": null,
      "outputs": [
        {
          "output_type": "stream",
          "text": [
            "confusionMatrix: 0.9258064516129032\n",
            "Kappa: 0.8848680574212912\n"
          ],
          "name": "stdout"
        }
      ]
    },
    {
      "cell_type": "code",
      "metadata": {
        "colab": {
          "base_uri": "https://localhost:8080/"
        },
        "id": "buyCbMH7HtUV",
        "outputId": "67186278-e719-4a52-cc0b-c31e18e1b44b"
      },
      "source": [
        "#Atfer image\n",
        "image = Laikipia_Samburu_after_image\n",
        "accuracy_Laikipia_samburu = train_test(image)"
      ],
      "execution_count": null,
      "outputs": [
        {
          "output_type": "stream",
          "text": [
            "confusionMatrix: 0.9245216158752658\n",
            "Kappa: 0.8893573647401369\n"
          ],
          "name": "stdout"
        }
      ]
    },
    {
      "cell_type": "code",
      "metadata": {
        "id": "wc-gcAxdH2aA"
      },
      "source": [
        "#export the images\n",
        "# geemap.ee_export_image_to_drive(Laikipia_Samburu_Classified_after, description='Laikipia_samburu_Classified_After', folder='omdena', scale=10)\n",
        "# geemap.ee_export_image_to_drive(Laikipia_Samburu_Classified_before, description='Laikipia_samburu_Classified_before', folder='omdena', scale=10)"
      ],
      "execution_count": null,
      "outputs": []
    },
    {
      "cell_type": "code",
      "metadata": {
        "id": "W_dwwr2YJSua"
      },
      "source": [
        ""
      ],
      "execution_count": null,
      "outputs": []
    },
    {
      "cell_type": "markdown",
      "metadata": {
        "id": "m8k2mHLOJVdP"
      },
      "source": [
        "Machakos Embu"
      ]
    },
    {
      "cell_type": "code",
      "metadata": {
        "id": "eYHw11xqJE-E"
      },
      "source": [
        "AOI = conv(Machakos_embu) # define AOI for the county\n",
        "Machakos_embu_before_image = All_counties_before.clip(AOI.geometry()) # Get the image for the location \n",
        "# Generation of trianing Points\n",
        "\n",
        "ROI = AOI # define the Region to create points from the Sentinel 2 image \n",
        "points_Machakos_embu = training(ROI) #this generates points from the function\n",
        "\n",
        "# Training and classifiy\n",
        "\n",
        "image = Machakos_embu_before_image # defines the image for the Location\n",
        "points = points_Machakos_embu # defines the points to be used \n",
        "Machakos_embu_Classified_before = Train_classify(image)\n",
        "\n",
        "#after\n",
        "#AOI = conv(Elgeiyo_Baringo) # define AOI for the county\n",
        "Machakos_embu_after_image = All_Counties_after.clip(AOI.geometry()) # Get the image for the location \n",
        "# Generation of trianing Points\n",
        "\n",
        "#ROI = AOI # define the Region to create points from the Sentinel 2 image \n",
        "#points_Elgeiyo_baringo = training(ROI) #this generates points from the function\n",
        "\n",
        "# Training and classifiy\n",
        "\n",
        "image = Machakos_embu_after_image # defines the image for the Location\n",
        "points = points_Machakos_embu # defines the points to be used \n",
        "Machakos_embu_Classified_after = Train_classify(image)"
      ],
      "execution_count": null,
      "outputs": []
    },
    {
      "cell_type": "markdown",
      "metadata": {
        "id": "pluZCZ17IgL6"
      },
      "source": [
        "Accuracy Assesment"
      ]
    },
    {
      "cell_type": "code",
      "metadata": {
        "colab": {
          "base_uri": "https://localhost:8080/"
        },
        "id": "UKDJxQSkIeeP",
        "outputId": "700a50b2-bd86-45de-e297-e9b539a30c34"
      },
      "source": [
        "#Before image\n",
        "image = Machakos_embu_before_image\n",
        "accuracy_Machakos_embu = train_test(image)"
      ],
      "execution_count": null,
      "outputs": [
        {
          "output_type": "stream",
          "text": [
            "confusionMatrix: 0.9563577586206896\n",
            "Kappa: 0.8908268360625405\n"
          ],
          "name": "stdout"
        }
      ]
    },
    {
      "cell_type": "code",
      "metadata": {
        "colab": {
          "base_uri": "https://localhost:8080/"
        },
        "id": "_Oib5h0-VEFB",
        "outputId": "e4ca38c3-38b8-47dd-ad9a-3121928c67d0"
      },
      "source": [
        "# After image \n",
        "image = Machakos_embu_after_image\n",
        "accuracy_Machakos_embu = train_test(image)"
      ],
      "execution_count": null,
      "outputs": [
        {
          "output_type": "stream",
          "text": [
            "confusionMatrix: 0.9593184979137691\n",
            "Kappa: 0.8896768437011812\n"
          ],
          "name": "stdout"
        }
      ]
    },
    {
      "cell_type": "code",
      "metadata": {
        "id": "zWbAAYx6LqL9"
      },
      "source": [
        "# geemap.ee_export_image_to_drive(Machakos_embu_Classified_after, description='Machakos_Embu_Classified_After', folder='omdena', scale=10)\n",
        "# geemap.ee_export_image_to_drive(Machakos_embu_Classified_before, description='Machakos_Embu_Classified_before', folder='omdena', scale=10)"
      ],
      "execution_count": null,
      "outputs": []
    },
    {
      "cell_type": "code",
      "metadata": {
        "id": "WnshqM0IN6rc"
      },
      "source": [
        ""
      ],
      "execution_count": null,
      "outputs": []
    },
    {
      "cell_type": "markdown",
      "metadata": {
        "id": "obXS9gpzN_2J"
      },
      "source": [
        "Mandera "
      ]
    },
    {
      "cell_type": "code",
      "metadata": {
        "id": "0dnfIuJbNYrD"
      },
      "source": [
        "AOI = conv(Mandera) # define AOI for the county\n",
        "Mandera_before_image = All_counties_before.clip(AOI.geometry()) # Get the image for the location \n",
        "# Generation of trianing Points\n",
        "\n",
        "ROI = AOI # define the Region to create points from the Sentinel 2 image \n",
        "points_Mandera = training(ROI) #this generates points from the function\n",
        "\n",
        "# Training and classifiy\n",
        "\n",
        "image = Mandera_before_image # defines the image for the Location\n",
        "points = points_Mandera # defines the points to be used \n",
        "Mandera_Classified_before = Train_classify(image)\n",
        "\n",
        "#after\n",
        "#AOI = conv(Elgeiyo_Baringo) # define AOI for the county\n",
        "Mandera_after_image = All_Counties_after.clip(AOI.geometry()) # Get the image for the location \n",
        "# Generation of trianing Points\n",
        "\n",
        "#ROI = AOI # define the Region to create points from the Sentinel 2 image \n",
        "#points_Elgeiyo_baringo = training(ROI) #this generates points from the function\n",
        "\n",
        "# Training and classifiy\n",
        "\n",
        "image = Mandera_after_image # defines the image for the Location\n",
        "points = points_Mandera # defines the points to be used \n",
        "Mandera_Classified_after = Train_classify(image)"
      ],
      "execution_count": null,
      "outputs": []
    },
    {
      "cell_type": "markdown",
      "metadata": {
        "id": "On2dNos0I-iA"
      },
      "source": [
        "Accuracy"
      ]
    },
    {
      "cell_type": "code",
      "metadata": {
        "colab": {
          "base_uri": "https://localhost:8080/"
        },
        "id": "rBWQLftaJCZX",
        "outputId": "666ce7d0-a0a7-406a-f66a-235215b8f490"
      },
      "source": [
        "# Before Image\n",
        "image = Mandera_before_image\n",
        "accuracy_Kitui = train_test(image)\n"
      ],
      "execution_count": null,
      "outputs": [
        {
          "output_type": "stream",
          "text": [
            "confusionMatrix: 0.9318840579710145\n",
            "Kappa: 0.8669257172529383\n"
          ],
          "name": "stdout"
        }
      ]
    },
    {
      "cell_type": "code",
      "metadata": {
        "colab": {
          "base_uri": "https://localhost:8080/"
        },
        "id": "mFDm8TBtJO0k",
        "outputId": "fbf774f4-025a-4b1c-8336-9097a477905f"
      },
      "source": [
        "# After Image\n",
        "image = Mandera_after_image\n",
        "accuracy_Mandera = train_test(image)"
      ],
      "execution_count": null,
      "outputs": [
        {
          "output_type": "stream",
          "text": [
            "confusionMatrix: 0.9365645046329294\n",
            "Kappa: 0.8716484678654092\n"
          ],
          "name": "stdout"
        }
      ]
    },
    {
      "cell_type": "code",
      "metadata": {
        "id": "t4uHsW33RLEC"
      },
      "source": [
        "#Export Images \n",
        "# geemap.ee_export_image_to_drive(Mandera_Classified_after, description='Mandera_Classified_After', folder='omdena', scale=10)\n",
        "# geemap.ee_export_image_to_drive(Mandera_Classified_before, description='Mandera_Classified_before', folder='omdena', scale=10)"
      ],
      "execution_count": null,
      "outputs": []
    },
    {
      "cell_type": "markdown",
      "metadata": {
        "id": "GRWt2YI0RL4d"
      },
      "source": [
        "Marsabi"
      ]
    },
    {
      "cell_type": "code",
      "metadata": {
        "id": "6GZITO8nYLPW"
      },
      "source": [
        "AOI = conv(Marsabit) # define AOI for the county\n",
        "Marsabit_before_image = All_counties_before.clip(AOI.geometry()) # Get the image for the location \n",
        "# Generation of trianing Points\n",
        "\n",
        "ROI = AOI # define the Region to create points from the Sentinel 2 image \n",
        "points_Marsabit = training(ROI) #this generates points from the function\n",
        "\n",
        "# Training and classifiy\n",
        "\n",
        "image = Marsabit_before_image # defines the image for the Location\n",
        "points = points_Marsabit # defines the points to be used \n",
        "Marsabit_Classified_before = Train_classify(image)\n",
        "\n",
        "#after\n",
        "#AOI = conv(Elgeiyo_Baringo) # define AOI for the county\n",
        "Marsabit_after_image = All_Counties_after.clip(AOI.geometry()) # Get the image for the location \n",
        "# Generation of trianing Points\n",
        "\n",
        "#ROI = AOI # define the Region to create points from the Sentinel 2 image \n",
        "#points_Elgeiyo_baringo = training(ROI) #this generates points from the function\n",
        "\n",
        "# Training and classifiy\n",
        "\n",
        "image = Marsabit_after_image # defines the image for the Location\n",
        "points = points_Marsabit # defines the points to be used \n",
        "Marsabit_Classified_after = Train_classify(image)"
      ],
      "execution_count": null,
      "outputs": []
    },
    {
      "cell_type": "markdown",
      "metadata": {
        "id": "M99KzOalKI_K"
      },
      "source": [
        "Accuracy"
      ]
    },
    {
      "cell_type": "code",
      "metadata": {
        "id": "hpJXhL0PKK-E",
        "colab": {
          "base_uri": "https://localhost:8080/"
        },
        "outputId": "7495b245-4c0c-427e-d8fd-1d192a3da3dc"
      },
      "source": [
        "# Before Image\n",
        "image = Marsabit_before_image\n",
        "accuracy_Marsabit = train_test(image)"
      ],
      "execution_count": null,
      "outputs": [
        {
          "output_type": "stream",
          "text": [
            "confusionMatrix: 0.9281183932346723\n",
            "Kappa: 0.8859419467708444\n"
          ],
          "name": "stdout"
        }
      ]
    },
    {
      "cell_type": "code",
      "metadata": {
        "id": "1qe7sx2ZKUbc",
        "colab": {
          "base_uri": "https://localhost:8080/"
        },
        "outputId": "ee83d203-d5e5-4bbd-82c9-267937f65bf0"
      },
      "source": [
        "# After Image\n",
        "image = Marsabit_after_image\n",
        "accuracy_Marsabit = train_test(image)"
      ],
      "execution_count": null,
      "outputs": [
        {
          "output_type": "stream",
          "text": [
            "confusionMatrix: 0.9301152737752162\n",
            "Kappa: 0.8902403755516359\n"
          ],
          "name": "stdout"
        }
      ]
    },
    {
      "cell_type": "code",
      "metadata": {
        "id": "nlJV09gRYptS"
      },
      "source": [
        "#Export Images \n",
        "# geemap.ee_export_image_to_drive(Marsabit_Classified_after, description='Marsabit_Classified_After', folder='omdena', scale=10)\n",
        "# geemap.ee_export_image_to_drive(Marsabit_Classified_before, description='Marsabit_Classified_before', folder='omdena', scale=10)"
      ],
      "execution_count": null,
      "outputs": []
    },
    {
      "cell_type": "code",
      "metadata": {
        "id": "6QAqhZ6obaBD"
      },
      "source": [
        ""
      ],
      "execution_count": null,
      "outputs": []
    },
    {
      "cell_type": "markdown",
      "metadata": {
        "id": "OYXPoB2Hbb4U"
      },
      "source": [
        "Meru Isiolo"
      ]
    },
    {
      "cell_type": "code",
      "metadata": {
        "id": "lvjeh62UbeU_"
      },
      "source": [
        "AOI = conv(Meru_isolo) # define AOI for the county\n",
        "Meru_isolo_before_image = All_counties_before.clip(AOI.geometry()) # Get the image for the location \n",
        "# Generation of trianing Points\n",
        "\n",
        "ROI = AOI # define the Region to create points from the Sentinel 2 image \n",
        "points_Meru_isolo = training(ROI) #this generates points from the function\n",
        "\n",
        "# Training and classifiy\n",
        "\n",
        "image = Meru_isolo_before_image # defines the image for the Location\n",
        "points = points_Meru_isolo # defines the points to be used \n",
        "Meru_isolo_Classified_before = Train_classify(image)\n",
        "\n",
        "#after\n",
        "#AOI = conv(Elgeiyo_Baringo) # define AOI for the county\n",
        "Meru_isolo_after_image = All_Counties_after.clip(AOI.geometry()) # Get the image for the location \n",
        "# Generation of trianing Points\n",
        "\n",
        "#ROI = AOI # define the Region to create points from the Sentinel 2 image \n",
        "#points_Elgeiyo_baringo = training(ROI) #this generates points from the function\n",
        "\n",
        "# Training and classifiy\n",
        "\n",
        "image = Meru_isolo_after_image # defines the image for the Location\n",
        "points = points_Meru_isolo # defines the points to be used \n",
        "Meru_isolo_Classified_after = Train_classify(image)"
      ],
      "execution_count": null,
      "outputs": []
    },
    {
      "cell_type": "markdown",
      "metadata": {
        "id": "Bbd8JJ8EKoWp"
      },
      "source": [
        "Accuracy"
      ]
    },
    {
      "cell_type": "code",
      "metadata": {
        "id": "N8rg_yGBKqUI",
        "colab": {
          "base_uri": "https://localhost:8080/"
        },
        "outputId": "f58ca9a5-00df-4635-df1c-8d8b824efb60"
      },
      "source": [
        "# Before Image\n",
        "image = Meru_isolo_before_image\n",
        "accuracy_Meru_isiolo = train_test(image)"
      ],
      "execution_count": null,
      "outputs": [
        {
          "output_type": "stream",
          "text": [
            "confusionMatrix: 0.9342152306042188\n",
            "Kappa: 0.9016905320919149\n"
          ],
          "name": "stdout"
        }
      ]
    },
    {
      "cell_type": "code",
      "metadata": {
        "id": "867bIuiYK6oB",
        "colab": {
          "base_uri": "https://localhost:8080/"
        },
        "outputId": "a41880a4-ab34-493a-ab3b-15de6e11b4aa"
      },
      "source": [
        "# After Image\n",
        "image = Meru_isolo_after_image\n",
        "accuracy_Meru_isiolo = train_test(image)"
      ],
      "execution_count": null,
      "outputs": [
        {
          "output_type": "stream",
          "text": [
            "confusionMatrix: 0.9247159090909091\n",
            "Kappa: 0.8861304234212065\n"
          ],
          "name": "stdout"
        }
      ]
    },
    {
      "cell_type": "code",
      "metadata": {
        "id": "eNfODWp_ekBS"
      },
      "source": [
        "# geemap.ee_export_image_to_drive(Meru_isolo_Classified_after, description='Meru_isiolo_Classified_After', folder='omdena', scale=10)\n",
        "# geemap.ee_export_image_to_drive(Meru_isolo_Classified_before, description='Meru_isiolo_Classified_before', folder='omdena', scale=10)"
      ],
      "execution_count": null,
      "outputs": []
    },
    {
      "cell_type": "markdown",
      "metadata": {
        "id": "m5flru-wsWT7"
      },
      "source": [
        "Tana"
      ]
    },
    {
      "cell_type": "code",
      "metadata": {
        "id": "QRrdev6ae7gv"
      },
      "source": [
        "AOI = conv(Tana) # define AOI for the county\n",
        "Tana_before_image = All_counties_before.clip(AOI.geometry()) # Get the image for the location \n",
        "# Generation of trianing Points\n",
        "\n",
        "ROI = AOI # define the Region to create points from the Sentinel 2 image \n",
        "points_Tana = training(ROI) #this generates points from the function\n",
        "\n",
        "# Training and classifiy\n",
        "\n",
        "image = Tana_before_image # defines the image for the Location\n",
        "points = points_Tana # defines the points to be used \n",
        "Tana_Classified_before = Train_classify(image)\n",
        "\n",
        "#after\n",
        "#AOI = conv(Elgeiyo_Baringo) # define AOI for the county\n",
        "Tana_after_image = All_Counties_after.clip(AOI.geometry()) # Get the image for the location \n",
        "# Generation of trianing Points\n",
        "\n",
        "#ROI = AOI # define the Region to create points from the Sentinel 2 image \n",
        "#points_Elgeiyo_baringo = training(ROI) #this generates points from the function\n",
        "\n",
        "# Training and classifiy\n",
        "\n",
        "image = Tana_after_image # defines the image for the Location\n",
        "points = points_Tana # defines the points to be used \n",
        "Tana_Classified_after = Train_classify(image)"
      ],
      "execution_count": null,
      "outputs": []
    },
    {
      "cell_type": "markdown",
      "metadata": {
        "id": "nr-Ckat4bd_r"
      },
      "source": [
        "accuracy tana"
      ]
    },
    {
      "cell_type": "code",
      "metadata": {
        "id": "MGOVCOBrbcYj",
        "colab": {
          "base_uri": "https://localhost:8080/"
        },
        "outputId": "ee9fce18-56e0-4091-8b35-871b933896ec"
      },
      "source": [
        "# Before Image\n",
        "image = Tana_before_image\n",
        "accuracy_Tana = train_test(image)"
      ],
      "execution_count": null,
      "outputs": [
        {
          "output_type": "stream",
          "text": [
            "confusionMatrix: 0.9228430254656025\n",
            "Kappa: 0.8476276416951698\n"
          ],
          "name": "stdout"
        }
      ]
    },
    {
      "cell_type": "code",
      "metadata": {
        "id": "EcmJPXLwbm6O",
        "colab": {
          "base_uri": "https://localhost:8080/"
        },
        "outputId": "f46858b3-f8c8-4b55-d3ee-d87291acb379"
      },
      "source": [
        "# After Image\n",
        "image = Tana_after_image\n",
        "accuracy_Tana = train_test(image)"
      ],
      "execution_count": null,
      "outputs": [
        {
          "output_type": "stream",
          "text": [
            "confusionMatrix: 0.9276504297994269\n",
            "Kappa: 0.8637948789285665\n"
          ],
          "name": "stdout"
        }
      ]
    },
    {
      "cell_type": "code",
      "metadata": {
        "id": "IrWy_r73f-h7"
      },
      "source": [
        "AOI = conv(Turkana) # define AOI for the county\n",
        "Turkana_before_image = All_counties_before.clip(AOI.geometry()) # Get the image for the location \n",
        "# Generation of trianing Points\n",
        "\n",
        "ROI = AOI # define the Region to create points from the Sentinel 2 image \n",
        "points_Turkana = training(ROI) #this generates points from the function\n",
        "\n",
        "# Training and classifiy\n",
        "\n",
        "image = Turkana_before_image # defines the image for the Location\n",
        "points = points_Turkana # defines the points to be used \n",
        "Turkana_Classified_before = Train_classify(image)\n",
        "\n",
        "#after\n",
        "#AOI = conv(Elgeiyo_Baringo) # define AOI for the county\n",
        "Turkana_after_image = All_Counties_after.clip(AOI.geometry()) # Get the image for the location \n",
        "# Generation of trianing Points\n",
        "\n",
        "#ROI = AOI # define the Region to create points from the Sentinel 2 image \n",
        "#points_Elgeiyo_baringo = training(ROI) #this generates points from the function\n",
        "\n",
        "# Training and classifiy\n",
        "\n",
        "image = Turkana_after_image # defines the image for the Location\n",
        "points = points_Turkana # defines the points to be used \n",
        "Turkana_Classified_after = Train_classify(image)"
      ],
      "execution_count": null,
      "outputs": []
    },
    {
      "cell_type": "markdown",
      "metadata": {
        "id": "P2HdguQoLOch"
      },
      "source": [
        "Accuracy"
      ]
    },
    {
      "cell_type": "code",
      "metadata": {
        "id": "cPa9LN6GLNPQ",
        "colab": {
          "base_uri": "https://localhost:8080/"
        },
        "outputId": "84d161cc-1ca2-47c3-ea34-938dc9cd410d"
      },
      "source": [
        "# Before Image\n",
        "image = Turkana_before_image\n",
        "accuracy_Turkana = train_test(image)"
      ],
      "execution_count": null,
      "outputs": [
        {
          "output_type": "stream",
          "text": [
            "confusionMatrix: 0.9261818181818182\n",
            "Kappa: 0.881316847403398\n"
          ],
          "name": "stdout"
        }
      ]
    },
    {
      "cell_type": "code",
      "metadata": {
        "id": "DXU4nzIkLklD",
        "colab": {
          "base_uri": "https://localhost:8080/"
        },
        "outputId": "34658a3b-863e-4ffb-d53e-3f7e66809ba0"
      },
      "source": [
        "# After Image\n",
        "image = Turkana_after_image\n",
        "accuracy_Turkana = train_test(image)"
      ],
      "execution_count": null,
      "outputs": [
        {
          "output_type": "stream",
          "text": [
            "confusionMatrix: 0.9295470884255931\n",
            "Kappa: 0.8934621726353122\n"
          ],
          "name": "stdout"
        }
      ]
    },
    {
      "cell_type": "code",
      "metadata": {
        "id": "hlXymW2-sRqq"
      },
      "source": [
        "# Export Images \n",
        "# geemap.ee_export_image_to_drive(Tana_Classified_after, description='Tana_Classified_after', folder='omdena', scale=10)\n",
        "# geemap.ee_export_image_to_drive(Tana_Classified_before, description='Tana_Classified_before', folder='omdena', scale=10)\n",
        "# geemap.ee_export_image_to_drive(Turkana_Classified_after, description='Turkana_Classified_After', folder='omdena', scale=10)\n",
        "# geemap.ee_export_image_to_drive(Turkana_Classified_before, description='Turkana_Classified_before', folder='omdena', scale=10)"
      ],
      "execution_count": null,
      "outputs": []
    },
    {
      "cell_type": "markdown",
      "metadata": {
        "id": "7chesjgAxsRg"
      },
      "source": [
        "Wajir"
      ]
    },
    {
      "cell_type": "code",
      "metadata": {
        "id": "jHsgSwlhw2Rs"
      },
      "source": [
        "AOI = conv(Wajir) # define AOI for the county\n",
        "Wajir_before_image = All_counties_before.clip(AOI.geometry()) # Get the image for the location \n",
        "# Generation of trianing Points\n",
        "\n",
        "ROI = AOI # define the Region to create points from the Sentinel 2 image \n",
        "points_Wajir = training(ROI) #this generates points from the function\n",
        "\n",
        "# Training and classifiy\n",
        "\n",
        "image = Wajir_before_image # defines the image for the Location\n",
        "points = points_Wajir # defines the points to be used \n",
        "Wajir_Classified_before = Train_classify(image)\n",
        "\n",
        "#after\n",
        "#AOI = conv(Elgeiyo_Baringo) # define AOI for the county\n",
        "Wajir_after_image = All_Counties_after.clip(AOI.geometry()) # Get the image for the location \n",
        "# Generation of trianing Points\n",
        "\n",
        "#ROI = AOI # define the Region to create points from the Sentinel 2 image \n",
        "#points_Elgeiyo_baringo = training(ROI) #this generates points from the function\n",
        "\n",
        "# Training and classifiy\n",
        "\n",
        "image = Wajir_after_image # defines the image for the Location\n",
        "points = points_Wajir # defines the points to be used \n",
        "Wajir_Classified_after = Train_classify(image)"
      ],
      "execution_count": null,
      "outputs": []
    },
    {
      "cell_type": "markdown",
      "metadata": {
        "id": "8dPS_1LIxyZU"
      },
      "source": [
        "accuracy Wajir"
      ]
    },
    {
      "cell_type": "code",
      "metadata": {
        "id": "XQaNx2npx08R",
        "colab": {
          "base_uri": "https://localhost:8080/"
        },
        "outputId": "6b708d7a-5a29-4cf9-edcb-f3c597df9cef"
      },
      "source": [
        "# Before image\n",
        "image = Wajir_before_image\n",
        "accuracy_Wajir = train_test(image)"
      ],
      "execution_count": null,
      "outputs": [
        {
          "output_type": "stream",
          "text": [
            "confusionMatrix: 0.9335740072202167\n",
            "Kappa: 0.8757139958798927\n"
          ],
          "name": "stdout"
        }
      ]
    },
    {
      "cell_type": "code",
      "metadata": {
        "id": "h_AdEuZFyAvO",
        "colab": {
          "base_uri": "https://localhost:8080/"
        },
        "outputId": "f9b25a32-02dc-492b-c30a-217127348b50"
      },
      "source": [
        "#After Image\n",
        "image = Wajir_after_image\n",
        "accuracy_Wajir = train_test(image)"
      ],
      "execution_count": null,
      "outputs": [
        {
          "output_type": "stream",
          "text": [
            "confusionMatrix: 0.9252669039145908\n",
            "Kappa: 0.860839715934737\n"
          ],
          "name": "stdout"
        }
      ]
    },
    {
      "cell_type": "markdown",
      "metadata": {
        "id": "7j2kUMblAMLM"
      },
      "source": [
        "Tharaka Nithi"
      ]
    },
    {
      "cell_type": "code",
      "metadata": {
        "id": "SR_rD6MrKjFD"
      },
      "source": [
        "tharaka = './drive/MyDrive/omdena/tharaka_shapefile/tharaka_nithi.shp'"
      ],
      "execution_count": null,
      "outputs": []
    },
    {
      "cell_type": "code",
      "metadata": {
        "id": "w6-EuTvzAQCg"
      },
      "source": [
        "\n",
        "AOI = conv(tharaka) # define AOI for the county\n",
        "tharaka_before_image = All_counties_before.clip(AOI.geometry()) # Get the image for the location \n",
        "# Generation of trianing Points\n",
        "\n",
        "ROI = AOI # define the Region to create points from the Sentinel 2 image \n",
        "points_tharaka = training(ROI) #this generates points from the function\n",
        "\n",
        "# Training and classifiy\n",
        "\n",
        "image = tharaka_before_image # defines the image for the Location\n",
        "points = points_tharaka # defines the points to be used \n",
        "tharaka_Classified_before = Train_classify(image)\n",
        "\n",
        "#after\n",
        "#AOI = conv(Elgeiyo_Baringo) # define AOI for the county\n",
        "tharaka_after_image = All_Counties_after.clip(AOI.geometry()) # Get the image for the location \n",
        "# Generation of trianing Points\n",
        "\n",
        "#ROI = AOI # define the Region to create points from the Sentinel 2 image \n",
        "#points_Elgeiyo_baringo = training(ROI) #this generates points from the function\n",
        "\n",
        "# Training and classifiy\n",
        "\n",
        "image = tharaka_after_image # defines the image for the Location\n",
        "points = points_tharaka # defines the points to be used \n",
        "tharaka_Classified_after = Train_classify(image)"
      ],
      "execution_count": null,
      "outputs": []
    },
    {
      "cell_type": "markdown",
      "metadata": {
        "id": "klFos8pfBErJ"
      },
      "source": [
        "accuracy Tharaka"
      ]
    },
    {
      "cell_type": "code",
      "metadata": {
        "id": "94WxoJ4pBDwO",
        "colab": {
          "base_uri": "https://localhost:8080/"
        },
        "outputId": "0fa78a8e-fbc7-40a3-9652-b0e54e25547a"
      },
      "source": [
        "# Before image\n",
        "image = tharaka_before_image\n",
        "accuracy_Tharaka = train_test(image)"
      ],
      "execution_count": null,
      "outputs": [
        {
          "output_type": "stream",
          "text": [
            "confusionMatrix: 0.9658273381294964\n",
            "Kappa: 0.9226254041218598\n"
          ],
          "name": "stdout"
        }
      ]
    },
    {
      "cell_type": "code",
      "metadata": {
        "id": "3fS7KHDpBTwl",
        "colab": {
          "base_uri": "https://localhost:8080/"
        },
        "outputId": "bc05e871-31ce-4ad9-e0e3-af4c4d258337"
      },
      "source": [
        "#After Image\n",
        "image = tharaka_after_image\n",
        "accuracy_Tharaka = train_test(image)"
      ],
      "execution_count": null,
      "outputs": [
        {
          "output_type": "stream",
          "text": [
            "confusionMatrix: 0.9609598853868195\n",
            "Kappa: 0.9094364058339849\n"
          ],
          "name": "stdout"
        }
      ]
    },
    {
      "cell_type": "code",
      "metadata": {
        "id": "CB7A-8SzR5Jm"
      },
      "source": [
        "#Export tharaka\n",
        "# geemap.ee_export_image_to_drive(tharaka_Classified_after, description='Tharaka_Classified_after', folder='omdena', scale=10)\n",
        "# geemap.ee_export_image_to_drive(tharaka_Classified_before, description='Tharaka_Classified_before', folder='omdena', scale=10)"
      ],
      "execution_count": null,
      "outputs": []
    },
    {
      "cell_type": "code",
      "metadata": {
        "id": "t691f33fSWfY"
      },
      "source": [
        "#export Wajir\n",
        "# geemap.ee_export_image_to_drive(Wajir_after_image, description='Wajir_Classified_after', folder='omdena', scale=10)\n",
        "# geemap.ee_export_image_to_drive(Wajir_Classified_before, description='Wajir_Classified_before', folder='omdena', scale=10)\n"
      ],
      "execution_count": null,
      "outputs": []
    }
  ]
}